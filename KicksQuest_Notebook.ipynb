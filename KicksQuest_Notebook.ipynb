{
 "cells": [
  {
   "cell_type": "code",
   "execution_count": 1,
   "id": "29d2ef0f",
   "metadata": {},
   "outputs": [],
   "source": [
    "# all necessary imports                          USAGE:\n",
    "import sqlite3 as db                 # database holding information\n",
    "import matplotlib.pyplot as plt      # graph / chart visuals             \n",
    "import pandas as pd                  # data manipulation / cleaning / calculations\n",
    "import numpy as np                   # data manipulation / array creation\n",
    "import csv                           # file creation and export outside of Notebook\n",
    "import os                            # create charts_graphs directory"
   ]
  },
  {
   "cell_type": "markdown",
   "id": "0937ae80",
   "metadata": {},
   "source": [
    "# About The Data\n",
    "\n",
    "This data is the overview of a custom design shop specializing in shoes. All data has been created using Mockaroo.com and Google Sheets, as well as various csv-json conversion sites.\n",
    "\n",
    "I have created this project with the idea of a 'side hustle' dealing in custom shoe designs. After successfully tending to over 100 customers over the course of approximately three years, I have decided to deep dive into the data to discover insight that may help lead to identifying where a market exists and where to look for investors for related and various other upcoming projects.\n",
    "\n",
    "Currently, I know I want to focus on answering questions related to profits for the business. \n",
    "\n",
    "In the future, there could be a storefront, and this data will help determine where that storefront would potentially be most profitable.\n",
    "\n",
    "---------------------------------------------------------------------------------------\n",
    "\n",
    "Some fun nuance exists:"
   ]
  },
  {
   "cell_type": "markdown",
   "id": "24b3464b",
   "metadata": {},
   "source": [
    "1. Any and all items priced below 250.00 must be assumed to be shoe adornments.\n",
    "\n",
    "    * My favorite styles for customizable shoes cannot be purchased for less than the standard box price of 250.00.\n",
    "    * Prices include taxes and shipping respectively"
   ]
  },
  {
   "cell_type": "markdown",
   "id": "2ae72e78",
   "metadata": {},
   "source": [
    "2. We can assume the possibilty exists within the data for the customer address fields to not be the same as the delivery address fields.\n",
    "\n",
    "   * May not be assumed that 'delivery customer first' will always match 'customer first'."
   ]
  },
  {
   "cell_type": "markdown",
   "id": "7378ccc6",
   "metadata": {},
   "source": [
    "3. The 'design' column contains only unique values; each order is an individual, one-of-a-kind shipment that cannot be reproduced.\n",
    "\n",
    "    * All sales without an SKU are customized shoes.\n",
    "    * All sales with an SKU are unique hand-designed hardware adornment pieces to decorate a pair of shoes already owned."
   ]
  },
  {
   "cell_type": "markdown",
   "id": "070855f9",
   "metadata": {},
   "source": [
    "## Please ensure the KQ Database has been created\n",
    "\n",
    "You may run the cell below, which is a script to automatically generate the database for you.\n",
    "    "
   ]
  },
  {
   "cell_type": "code",
   "execution_count": 2,
   "id": "2d6fc3ed",
   "metadata": {},
   "outputs": [],
   "source": [
    "!python RunDatabaseFile.py"
   ]
  },
  {
   "cell_type": "markdown",
   "metadata": {},
   "source": [
    "Alternatively, if you would prefer to have a look at how I used python to interact with SQL to create the database: \n",
    "   * In **VSCode** (or if using **PyCharm**), navigate to the the 'RunDatabaseFile' and press the green arrow or 'Run' button. \n",
    "      * A new .db file will appear in the left-side window named 'KQBase'\n",
    "      * In **PyCharm** running the file will also create an '.idea' folder. "
   ]
  },
  {
   "cell_type": "markdown",
   "id": "e367ea4e",
   "metadata": {},
   "source": [
    "## Create folders\n",
    "\n",
    "Some blocks of this document will produce image or document files as output when ran. \n",
    "\n",
    "The following script ensures those files may be properly written where designated without fail. "
   ]
  },
  {
   "cell_type": "code",
   "execution_count": 3,
   "id": "c2194ab4",
   "metadata": {},
   "outputs": [
    {
     "name": "stdout",
     "output_type": "stream",
     "text": [
      "Visual Folder Formed!\n",
      "Visual Folder will say 'charts_graphs'\n",
      "-----------------------\n",
      "'Info' Folder Formed!\n"
     ]
    }
   ],
   "source": [
    "viz_folder = 'charts_graphs'        # matplotlib output goes here\n",
    "inform_folder = 'info'              # profit statement goes here\n",
    "\n",
    "# attempt to\n",
    "try:\n",
    "    # find if this path exists\n",
    "    isExist = os.path.exists(viz_folder)\n",
    "        \n",
    "    if not isExist:\n",
    "\n",
    "        # create a new directory because it does not exist\n",
    "        os.makedirs(viz_folder)\n",
    "        print('Visual Folder Formed!')\n",
    "        print(\"Visual Folder will say 'charts_graphs'\")\n",
    "        print(\"-----------------------\") # visual spacer \n",
    "\n",
    "# in case of error\n",
    "except FileExistsError:\n",
    "    # means file already exists\n",
    "    pass # do not attempt to create new folder path\n",
    "\n",
    "# attempt to\n",
    "try:\n",
    "    # find if this path exists\n",
    "    isExist = os.path.exists(inform_folder)\n",
    "        \n",
    "    if not isExist:\n",
    "\n",
    "           # create folder in the case it does not exist\n",
    "        os.makedirs(inform_folder)\n",
    "        print(\"'Info' Folder Formed!\")\n",
    "\n",
    "# in case of error\n",
    "except FileExistsError:\n",
    "    \n",
    "    # means folder already exists\n",
    "    \n",
    "    pass # do not attempt to create new folder path    \n"
   ]
  },
  {
   "cell_type": "markdown",
   "id": "63c05c5f",
   "metadata": {},
   "source": [
    "## Ensure all data has made it to the database\n",
    "\n",
    "I had three files to manage within my database: customers, deliveries, and profit.\n",
    "\n",
    "I already know each file contained exactly 100 entries, so 3 x 100 means 300 is the magic number necessary when adding my database table entries together.\n"
   ]
  },
  {
   "cell_type": "code",
   "execution_count": 4,
   "id": "9a8a7ea9",
   "metadata": {},
   "outputs": [
    {
     "name": "stdout",
     "output_type": "stream",
     "text": [
      "300 must match <300> in 3Y KQ database.\n"
     ]
    }
   ],
   "source": [
    "# first connect to the database\n",
    "conn = db.connect('KQBase.db')\n",
    "\n",
    "# create cursor to execute sql commands\n",
    "click = conn.cursor()\n",
    "\n",
    "# query database how many records exist in tables respectively\n",
    "customer_query = ('''SELECT COUNT(*) FROM customer''')\n",
    "delivery_query = ('''SELECT COUNT(*) FROM delivery''')\n",
    "profit_query = ('''SELECT COUNT(*) FROM profit''')\n",
    "\n",
    "# a variable to hold the query execution\n",
    "cus_count = click.execute(customer_query).fetchall()\n",
    "del_count = click.execute(delivery_query).fetchall()\n",
    "prof_count = click.execute(profit_query).fetchall()\n",
    "\n",
    "\n",
    "# creating string formatting \n",
    "fmt = \"{0}\" # indexed placeholder for item I want returned so that I can design format\n",
    "\n",
    "# method to keep count of the iterations for query\n",
    "# for how many times in customer_rows the query executed\n",
    "for c in cus_count:\n",
    "    \n",
    "    cus = int(fmt.format(*c)) #integer casting for easy adding of the variable elsewhere\n",
    "\n",
    "for d in del_count:\n",
    "    deliv = int(fmt.format(*d))\n",
    "\n",
    "for p in prof_count:\n",
    "    prof = int(fmt.format(*p))\n",
    "    \n",
    "    # I need to print the informtion I query for\n",
    "    print(cus+deliv+prof, \"must match <300> in 3Y KQ database.\")"
   ]
  },
  {
   "cell_type": "markdown",
   "id": "a65ec791",
   "metadata": {},
   "source": [
    "### I must tend to my email list\n",
    "\n",
    "To thank my wonderful investors, I have developed a birthday giveaway in which I email out gift cards. \n",
    "\n",
    "I want to ensure I'm not sending out multiple gift cards to the same customer, though."
   ]
  },
  {
   "cell_type": "code",
   "execution_count": 5,
   "id": "08f8e4f1",
   "metadata": {},
   "outputs": [
    {
     "name": "stdout",
     "output_type": "stream",
     "text": [
      "Must match 100 to <100> exactly.\n",
      "100 unique emails exist within the database.\n"
     ]
    }
   ],
   "source": [
    "# python variable to hold the sql query\n",
    "email_repeat_query = '''SELECT DISTINCT COUNT (email) FROM customer'''\n",
    "\n",
    "# for every iteration in each selection of the query\n",
    "for e in click.execute(email_repeat_query).fetchall():\n",
    "    \n",
    "    e_repeats = fmt.format(*e)                                      # formatting statement to clean data\n",
    "    \n",
    "    print(\"Must match\", e_repeats, \"to <100> exactly.\")             # queried count to <required> count  \n",
    "\n",
    "    print(e_repeats,\"unique emails exist within the database.\")     # total query count statement"
   ]
  },
  {
   "cell_type": "markdown",
   "id": "33533915",
   "metadata": {},
   "source": [
    "I have confirmed with the email_repeat_query that I have exactly 100 unique emails in my customer table of the database accounting for all 100 of my customers that made purchases. "
   ]
  },
  {
   "cell_type": "markdown",
   "id": "45ead4d1",
   "metadata": {},
   "source": [
    "#### I have two types of gifts available:\n",
    "\n",
    "1. All-purpose gift cards with set balances of 15.00 dollars\n",
    "2. iTunes gift cards with set balances of 15.00 dollars\n",
    "\n",
    "To help me split the population between these two options, I choose to make an assumption of which to base my condition upon.\n",
    "\n",
    "I make an assumption that older generations will enjoy general purpose giftcards more than iTunes-specific giftcards."
   ]
  },
  {
   "cell_type": "code",
   "execution_count": 6,
   "id": "34db8727",
   "metadata": {},
   "outputs": [
    {
     "name": "stdout",
     "output_type": "stream",
     "text": [
      "Raymund, 1930-10-02 --> rpostlethwaite2@nasa.gov\n",
      " \n",
      "Karissa, 1938-10-04 --> kwannes22@sciencedaily.com\n",
      " \n",
      "Tersina, 1941-10-27 --> tyoud1v@joomla.org\n",
      " \n",
      "Christean, 1953-10-18 --> csanchez1d@g.co\n",
      " \n",
      "Jody, 1962-10-04 --> jwillatts0@wordpress.com\n",
      " \n",
      "Therese, 1968-10-08 --> tchristmas4@1und1.de\n",
      " \n",
      "Juliane, 1968-10-29 --> jbirtle25@cnn.com\n",
      " \n",
      "Aaren, 1984-10-12 --> akemmr@patch.com\n",
      " \n",
      "Goddart, 1993-10-12 --> grootc@columbia.edu\n",
      " \n"
     ]
    }
   ],
   "source": [
    "# Pretending it's September now, \n",
    "# I realize I need to filter by month as well. \n",
    "# I'm going to start now, looking at October. \n",
    "# Small edits can be made to \n",
    "# make notebook re-usable OR monthly queries could be fed into notebook\n",
    "\n",
    "# sql query\n",
    "query_october_cards = ('''SELECT first, birthdate, email\n",
    "                FROM customer\n",
    "                WHERE (birthdate LIKE '%-10-%') AND (birthdate <= '1994-12-31')\n",
    "                ORDER BY birthdate''')\n",
    "\n",
    "# execute query\n",
    "october_cards = click.execute(query_october_cards)\n",
    "\n",
    "\n",
    "# style of formatting\n",
    "em_fmt = \"{0}, {1} --> {2}\" \n",
    "\n",
    "# for each query output selected from fetching all instances of the oct-gift-card-query\n",
    "for otc in october_cards.fetchall():\n",
    "    \n",
    "    # format each line of output\n",
    "    october_cards = em_fmt.format(*otc)\n",
    "    \n",
    "    # print each line of output for user to see\n",
    "    print(october_cards, end='\\n \\n')"
   ]
  },
  {
   "cell_type": "code",
   "execution_count": 7,
   "id": "307076ee",
   "metadata": {},
   "outputs": [
    {
     "name": "stdout",
     "output_type": "stream",
     "text": [
      "Merna, 1998-10-19 --> mshakesby1s@flavors.me\n"
     ]
    }
   ],
   "source": [
    "# determine the october itunes cards to prepare: \n",
    "\n",
    "# sql query\n",
    "query_oct_itunes = ('''SELECT first, birthdate, email\n",
    "                FROM customer\n",
    "                WHERE (birthdate LIKE '%-10-%') AND (birthdate > '1994-12-31')\n",
    "                ORDER BY birthdate''')\n",
    "\n",
    "# view query result with specific format\n",
    "for octunes in click.execute(query_oct_itunes).fetchall():\n",
    "    october_itunes_cards = em_fmt.format(*octunes)\n",
    "    print(october_itunes_cards)"
   ]
  },
  {
   "cell_type": "markdown",
   "id": "bad548c1",
   "metadata": {},
   "source": [
    "## I need to dig into data\n",
    "\n",
    "This requires inserting the information from my database, which has already been created using three separate files in csv and json format, and turning the tables into dataframes using pandas."
   ]
  },
  {
   "cell_type": "code",
   "execution_count": 10,
   "id": "fbb6d2af",
   "metadata": {},
   "outputs": [
    {
     "name": "stdout",
     "output_type": "stream",
     "text": [
      "   customer_id   first      last                     email  \\\n",
      "0            1    Jody  Willatts  jwillatts0@wordpress.com   \n",
      "1            2  Ginger   McGinny         gmcginny1@hhs.gov   \n",
      "\n",
      "                  street    city       state  zip_code   birthdate     payment  \n",
      "0  61293 Karstens Avenue   Miami     Florida     33164  1962-10-04  mastercard  \n",
      "1     107 Golf View Road  Orange  California     92668  1946-08-24  mastercard  \n"
     ]
    }
   ],
   "source": [
    "# create a pandas dataframe from my database table\n",
    "customer_df = pd.read_sql_query(\"SELECT * FROM customer\", conn)\n",
    "\n",
    "print(customer_df.head(2))"
   ]
  },
  {
   "cell_type": "code",
   "execution_count": 11,
   "id": "b2445522",
   "metadata": {},
   "outputs": [],
   "source": [
    "# delivery and profit as well\n",
    "delivery_df = pd.read_sql_query(\"SELECT * FROM delivery\", conn)\n",
    "profit_df = pd.read_sql_query(\"SELECT * FROM profit\", conn)"
   ]
  },
  {
   "cell_type": "markdown",
   "id": "a8330f14",
   "metadata": {},
   "source": [
    "### I want an idea of how frequently orders were sold at which price ranges\n",
    "\n",
    "This will give me an overall idea of the general price range I may be focusing on in the future."
   ]
  },
  {
   "cell_type": "code",
   "execution_count": 12,
   "id": "a0dd7ef4",
   "metadata": {},
   "outputs": [
    {
     "data": {
      "image/png": "[encoded data removed]",
      "text/plain": [
       "<Figure size 640x480 with 1 Axes>"
      ]
     },
     "metadata": {},
     "output_type": "display_data"
    }
   ],
   "source": [
    "# create profit dataframe\n",
    "freq_sold_df = profit_df.copy()     # use a copy to keep clean dataframe for this particular problem\n",
    "\n",
    "# establish histogram that shows which price ranges of purses had the most sales\n",
    "fs_gram = freq_sold_df.plot(kind= 'hist', x = 'design', y= 'sold')\n",
    "\n",
    "# label x axis\n",
    "plt.xlabel('$')\n",
    "\n",
    "# save to folder\n",
    "plt.savefig('charts_graphs/sale-price_histogram.png') \n",
    "\n",
    "# clean output \n",
    "plt.tight_layout()\n",
    "\n",
    "\n",
    "# This graph displays over the course of 100 customers \n",
    "# Each bar shows the cost at which each customer purchased a custom design"
   ]
  },
  {
   "cell_type": "markdown",
   "id": "7eff7a92",
   "metadata": {},
   "source": [
    "Wow. So this tells me I sold over 12 orders that were at both of my highest price ranges; nearly one fourth of my customers bought my highest-priced designs. I don't have to worry that I'm overpricing my items, but from this visual I would like to believe that I will also have room to continue selling adornments and easier designs in the future."
   ]
  },
  {
   "cell_type": "markdown",
   "id": "d0067541",
   "metadata": {},
   "source": [
    "### Now to look into my average sale price per state"
   ]
  },
  {
   "cell_type": "code",
   "execution_count": 13,
   "id": "90115afd",
   "metadata": {},
   "outputs": [
    {
     "data": {
      "text/html": [
       "<div>\n",
       "<style scoped>\n",
       "    .dataframe tbody tr th:only-of-type {\n",
       "        vertical-align: middle;\n",
       "    }\n",
       "\n",
       "    .dataframe tbody tr th {\n",
       "        vertical-align: top;\n",
       "    }\n",
       "\n",
       "    .dataframe thead th {\n",
       "        text-align: right;\n",
       "    }\n",
       "</style>\n",
       "<table border=\"1\" class=\"dataframe\">\n",
       "  <thead>\n",
       "    <tr style=\"text-align: right;\">\n",
       "      <th></th>\n",
       "      <th>Average Price Sold</th>\n",
       "    </tr>\n",
       "    <tr>\n",
       "      <th>state</th>\n",
       "      <th></th>\n",
       "    </tr>\n",
       "  </thead>\n",
       "  <tbody>\n",
       "    <tr>\n",
       "      <th>Georgia</th>\n",
       "      <td>2641.08</td>\n",
       "    </tr>\n",
       "    <tr>\n",
       "      <th>Minnesota</th>\n",
       "      <td>2097.40</td>\n",
       "    </tr>\n",
       "    <tr>\n",
       "      <th>Florida</th>\n",
       "      <td>1679.62</td>\n",
       "    </tr>\n",
       "    <tr>\n",
       "      <th>California</th>\n",
       "      <td>1603.76</td>\n",
       "    </tr>\n",
       "    <tr>\n",
       "      <th>Wisconsin</th>\n",
       "      <td>1469.30</td>\n",
       "    </tr>\n",
       "    <tr>\n",
       "      <th>Michigan</th>\n",
       "      <td>1401.26</td>\n",
       "    </tr>\n",
       "    <tr>\n",
       "      <th>Alabama</th>\n",
       "      <td>926.12</td>\n",
       "    </tr>\n",
       "    <tr>\n",
       "      <th>Louisiana</th>\n",
       "      <td>882.35</td>\n",
       "    </tr>\n",
       "    <tr>\n",
       "      <th>Oregon</th>\n",
       "      <td>682.00</td>\n",
       "    </tr>\n",
       "  </tbody>\n",
       "</table>\n",
       "</div>"
      ],
      "text/plain": [
       "            Average Price Sold\n",
       "state                         \n",
       "Georgia                2641.08\n",
       "Minnesota              2097.40\n",
       "Florida                1679.62\n",
       "California             1603.76\n",
       "Wisconsin              1469.30\n",
       "Michigan               1401.26\n",
       "Alabama                 926.12\n",
       "Louisiana               882.35\n",
       "Oregon                  682.00"
      ]
     },
     "metadata": {},
     "output_type": "display_data"
    }
   ],
   "source": [
    "# establish clean dataframe displaying average price sold per state\n",
    "state_averages = delivery_df.copy().groupby('state')[['sold']].mean()\n",
    "\n",
    "# sort that dataframe in order of average price sold \n",
    "# round state averages to 2 decimal places\n",
    "state_averages = round(state_averages.sort_values('sold', ascending=False), 2)\n",
    "\n",
    "# rename column for average\n",
    "state_averages.columns = ['Average Price Sold']\n",
    "\n",
    "display(state_averages)"
   ]
  },
  {
   "cell_type": "markdown",
   "id": "0fde5827",
   "metadata": {},
   "source": [
    "As far as the average sale price, I'm clearly selling a lot of shoes.\n",
    "\n",
    "What about my underlying adornment market, though?\n",
    "\n",
    "I know that anywhere I made a sale at less than 250.00 dollars, I did not sell a pair of shoes but instead a handmade adornment piece for shoes someone already owned.\n",
    "\n",
    "For adornment pieces, I might have a less standard process than I would follow if simply designing a stock pair of shoes. The customer may have specific colors or characters they request, which is typical, but these pieces are more like construction-set creations than paintings. They are a bit more involved and restrictive given the pieces I have to work with and the requests that may come in.\n",
    "\n",
    "It's a bit of a niche market, and I have to ensure I have a solid fan base and profit to continue this area of my business.\n",
    "\n",
    "I also know that within my profit dataset, no SKU available means I bought shoes to design instead. I had a 100 customers total, so let me see how many adornment pieces were ordered out of those."
   ]
  },
  {
   "cell_type": "code",
   "execution_count": 14,
   "id": "fec3643b",
   "metadata": {},
   "outputs": [
    {
     "data": {
      "text/html": [
       "<div>\n",
       "<style scoped>\n",
       "    .dataframe tbody tr th:only-of-type {\n",
       "        vertical-align: middle;\n",
       "    }\n",
       "\n",
       "    .dataframe tbody tr th {\n",
       "        vertical-align: top;\n",
       "    }\n",
       "\n",
       "    .dataframe thead th {\n",
       "        text-align: right;\n",
       "    }\n",
       "</style>\n",
       "<table border=\"1\" class=\"dataframe\">\n",
       "  <thead>\n",
       "    <tr style=\"text-align: right;\">\n",
       "      <th></th>\n",
       "      <th>customer_id</th>\n",
       "      <th>design</th>\n",
       "      <th>sold</th>\n",
       "      <th>bought</th>\n",
       "    </tr>\n",
       "  </thead>\n",
       "  <tbody>\n",
       "    <tr>\n",
       "      <th>1</th>\n",
       "      <td>4</td>\n",
       "      <td>873</td>\n",
       "      <td>208.87</td>\n",
       "      <td>50.23</td>\n",
       "    </tr>\n",
       "    <tr>\n",
       "      <th>2</th>\n",
       "      <td>25</td>\n",
       "      <td>454</td>\n",
       "      <td>37.19</td>\n",
       "      <td>10.99</td>\n",
       "    </tr>\n",
       "    <tr>\n",
       "      <th>3</th>\n",
       "      <td>40</td>\n",
       "      <td>749</td>\n",
       "      <td>63.65</td>\n",
       "      <td>10.99</td>\n",
       "    </tr>\n",
       "    <tr>\n",
       "      <th>4</th>\n",
       "      <td>67</td>\n",
       "      <td>740</td>\n",
       "      <td>50.64</td>\n",
       "      <td>10.99</td>\n",
       "    </tr>\n",
       "    <tr>\n",
       "      <th>5</th>\n",
       "      <td>76</td>\n",
       "      <td>436</td>\n",
       "      <td>227.95</td>\n",
       "      <td>50.23</td>\n",
       "    </tr>\n",
       "    <tr>\n",
       "      <th>6</th>\n",
       "      <td>89</td>\n",
       "      <td>883</td>\n",
       "      <td>106.53</td>\n",
       "      <td>31.23</td>\n",
       "    </tr>\n",
       "    <tr>\n",
       "      <th>7</th>\n",
       "      <td>91</td>\n",
       "      <td>756</td>\n",
       "      <td>132.39</td>\n",
       "      <td>50.23</td>\n",
       "    </tr>\n",
       "    <tr>\n",
       "      <th>8</th>\n",
       "      <td>93</td>\n",
       "      <td>838</td>\n",
       "      <td>52.56</td>\n",
       "      <td>10.99</td>\n",
       "    </tr>\n",
       "    <tr>\n",
       "      <th>9</th>\n",
       "      <td>94</td>\n",
       "      <td>936</td>\n",
       "      <td>132.34</td>\n",
       "      <td>50.23</td>\n",
       "    </tr>\n",
       "  </tbody>\n",
       "</table>\n",
       "</div>"
      ],
      "text/plain": [
       "   customer_id  design    sold  bought\n",
       "1            4     873  208.87   50.23\n",
       "2           25     454   37.19   10.99\n",
       "3           40     749   63.65   10.99\n",
       "4           67     740   50.64   10.99\n",
       "5           76     436  227.95   50.23\n",
       "6           89     883  106.53   31.23\n",
       "7           91     756  132.39   50.23\n",
       "8           93     838   52.56   10.99\n",
       "9           94     936  132.34   50.23"
      ]
     },
     "metadata": {},
     "output_type": "display_data"
    }
   ],
   "source": [
    "# create a variable holding a copy dataframe for clean working space\n",
    "adornments_df = profit_df.copy()\n",
    "\n",
    "# create dataframe with adornments only and reset index \n",
    "adornments_df = adornments_df.dropna().reset_index()\n",
    "\n",
    "# display specific columns \n",
    "adornments_df = adornments_df.iloc[:, [1, 3, 4, 6]]\n",
    "\n",
    "# to make it easier to count at a glance, restart the index at 1\n",
    "adornments_df.index = np.arange(1, len(adornments_df) +1 )\n",
    "\n",
    "display(adornments_df) #visually more appealing than print"
   ]
  },
  {
   "cell_type": "markdown",
   "id": "7d248cad",
   "metadata": {},
   "source": [
    "I had exactly 9 customers that I sold adornments to! Okay, so definitely not my cash cow currently, but that is almost ten percent of my customer base."
   ]
  },
  {
   "cell_type": "code",
   "execution_count": null,
   "id": "d61eec86",
   "metadata": {},
   "outputs": [
    {
     "data": {
      "image/png": "[encoded data removed]",
      "text/plain": [
       "<Figure size 300x300 with 1 Axes>"
      ]
     },
     "metadata": {},
     "output_type": "display_data"
    }
   ],
   "source": [
    "# establish bar graph for overall idea of adornment profitability\n",
    "adorn_graph = adornments_df.plot(kind='bar', \n",
    "                                 x='design', \n",
    "                                 y='sold',  \n",
    "                                 color = 'orange',   # color\n",
    "                                 figsize=(3,3))      # make smaller\n",
    "\n",
    "\n",
    "#label x and y\n",
    "adorn_graph = plt.xlabel('Adornment')     # rename x axis\n",
    "adorn_graph = plt.ylabel('Price  ($)')    # rename y axis\n",
    "\n",
    "# clean output \n",
    "plt.tight_layout()\n",
    "\n",
    "\n",
    "\n",
    "\n",
    "# This bar graph displays:\n",
    "#   all nine adornment pieces \n",
    "#      -- by identification number \n",
    "#       and \n",
    "#      -- approximately how much each sold for"
   ]
  },
  {
   "cell_type": "markdown",
   "id": "b5fbdaba",
   "metadata": {},
   "source": [
    "Judging by this graph, I may have room to increase my prices on my shoe adornment prices. \n",
    "\n",
    "Only two sold for over 150.00 dollars, but I might want to consider rounding out my price range of my lowest-priced adornments closer to 100.00 dollars or more. "
   ]
  },
  {
   "cell_type": "markdown",
   "id": "1b0ab67a",
   "metadata": {},
   "source": [
    "### Time to break down adornment piece statements"
   ]
  },
  {
   "cell_type": "code",
   "execution_count": 17,
   "id": "4179194b",
   "metadata": {},
   "outputs": [
    {
     "data": {
      "text/html": [
       "<div>\n",
       "<style scoped>\n",
       "    .dataframe tbody tr th:only-of-type {\n",
       "        vertical-align: middle;\n",
       "    }\n",
       "\n",
       "    .dataframe tbody tr th {\n",
       "        vertical-align: top;\n",
       "    }\n",
       "\n",
       "    .dataframe thead th {\n",
       "        text-align: right;\n",
       "    }\n",
       "</style>\n",
       "<table border=\"1\" class=\"dataframe\">\n",
       "  <thead>\n",
       "    <tr style=\"text-align: right;\">\n",
       "      <th></th>\n",
       "      <th>customer_id</th>\n",
       "      <th>Total Profit</th>\n",
       "    </tr>\n",
       "  </thead>\n",
       "  <tbody>\n",
       "    <tr>\n",
       "      <th>1</th>\n",
       "      <td>76</td>\n",
       "      <td>177.72</td>\n",
       "    </tr>\n",
       "    <tr>\n",
       "      <th>2</th>\n",
       "      <td>4</td>\n",
       "      <td>158.64</td>\n",
       "    </tr>\n",
       "    <tr>\n",
       "      <th>3</th>\n",
       "      <td>91</td>\n",
       "      <td>82.16</td>\n",
       "    </tr>\n",
       "    <tr>\n",
       "      <th>4</th>\n",
       "      <td>94</td>\n",
       "      <td>82.11</td>\n",
       "    </tr>\n",
       "    <tr>\n",
       "      <th>5</th>\n",
       "      <td>89</td>\n",
       "      <td>75.30</td>\n",
       "    </tr>\n",
       "    <tr>\n",
       "      <th>6</th>\n",
       "      <td>40</td>\n",
       "      <td>52.66</td>\n",
       "    </tr>\n",
       "    <tr>\n",
       "      <th>7</th>\n",
       "      <td>93</td>\n",
       "      <td>41.57</td>\n",
       "    </tr>\n",
       "    <tr>\n",
       "      <th>8</th>\n",
       "      <td>67</td>\n",
       "      <td>39.65</td>\n",
       "    </tr>\n",
       "    <tr>\n",
       "      <th>9</th>\n",
       "      <td>25</td>\n",
       "      <td>26.20</td>\n",
       "    </tr>\n",
       "  </tbody>\n",
       "</table>\n",
       "</div>"
      ],
      "text/plain": [
       "   customer_id  Total Profit\n",
       "1           76        177.72\n",
       "2            4        158.64\n",
       "3           91         82.16\n",
       "4           94         82.11\n",
       "5           89         75.30\n",
       "6           40         52.66\n",
       "7           93         41.57\n",
       "8           67         39.65\n",
       "9           25         26.20"
      ]
     },
     "metadata": {},
     "output_type": "display_data"
    }
   ],
   "source": [
    "# establish adornment profit\n",
    "adornment_profit = profit_df.copy().dropna().reset_index()\n",
    "\n",
    "\n",
    "# create function to do math problem \n",
    "def prof_num(sold, bought):\n",
    "    return round((sold - bought), 2)      # determine profit equation\n",
    "\n",
    "\n",
    "# create a dataframe that includes a 'Total Profit' column \n",
    "# dataframe needs math problem applied to it\n",
    "# lambda gives me clean way to write math problem here\n",
    "adornment_profit['Total Profit'] = adornment_profit.apply( \n",
    "    lambda x: prof_num(x['sold'], \n",
    "                       x['bought']), axis=1)               \n",
    "\n",
    "\n",
    "# only view customer_id and total profit in my resulting df\n",
    "adornment_profit = adornment_profit.iloc[:, [1, 9]]\n",
    "\n",
    "# display in order of most profit to least profit\n",
    "adornment_profit = adornment_profit.sort_values(by=['Total Profit'], ascending=False)\n",
    "\n",
    "# restart the index at one\n",
    "adornment_profit.index = np.arange(1, len(adornment_profit) +1 )\n",
    "\n",
    "\n",
    "display(adornment_profit)"
   ]
  },
  {
   "cell_type": "code",
   "execution_count": 18,
   "id": "fc71419c",
   "metadata": {},
   "outputs": [
    {
     "data": {
      "text/html": [
       "<div>\n",
       "<style scoped>\n",
       "    .dataframe tbody tr th:only-of-type {\n",
       "        vertical-align: middle;\n",
       "    }\n",
       "\n",
       "    .dataframe tbody tr th {\n",
       "        vertical-align: top;\n",
       "    }\n",
       "\n",
       "    .dataframe thead th {\n",
       "        text-align: right;\n",
       "    }\n",
       "</style>\n",
       "<table border=\"1\" class=\"dataframe\">\n",
       "  <thead>\n",
       "    <tr style=\"text-align: right;\">\n",
       "      <th></th>\n",
       "      <th>customer_id</th>\n",
       "      <th>Total Profit</th>\n",
       "      <th>state</th>\n",
       "    </tr>\n",
       "  </thead>\n",
       "  <tbody>\n",
       "    <tr>\n",
       "      <th>1</th>\n",
       "      <td>76</td>\n",
       "      <td>177.72</td>\n",
       "      <td>Oregon</td>\n",
       "    </tr>\n",
       "    <tr>\n",
       "      <th>2</th>\n",
       "      <td>4</td>\n",
       "      <td>158.64</td>\n",
       "      <td>California</td>\n",
       "    </tr>\n",
       "    <tr>\n",
       "      <th>3</th>\n",
       "      <td>91</td>\n",
       "      <td>82.16</td>\n",
       "      <td>Wisconsin</td>\n",
       "    </tr>\n",
       "    <tr>\n",
       "      <th>4</th>\n",
       "      <td>94</td>\n",
       "      <td>82.11</td>\n",
       "      <td>Louisiana</td>\n",
       "    </tr>\n",
       "    <tr>\n",
       "      <th>5</th>\n",
       "      <td>89</td>\n",
       "      <td>75.30</td>\n",
       "      <td>Louisiana</td>\n",
       "    </tr>\n",
       "    <tr>\n",
       "      <th>6</th>\n",
       "      <td>40</td>\n",
       "      <td>52.66</td>\n",
       "      <td>California</td>\n",
       "    </tr>\n",
       "    <tr>\n",
       "      <th>7</th>\n",
       "      <td>93</td>\n",
       "      <td>41.57</td>\n",
       "      <td>Florida</td>\n",
       "    </tr>\n",
       "    <tr>\n",
       "      <th>8</th>\n",
       "      <td>67</td>\n",
       "      <td>39.65</td>\n",
       "      <td>Alabama</td>\n",
       "    </tr>\n",
       "    <tr>\n",
       "      <th>9</th>\n",
       "      <td>25</td>\n",
       "      <td>26.20</td>\n",
       "      <td>Alabama</td>\n",
       "    </tr>\n",
       "  </tbody>\n",
       "</table>\n",
       "</div>"
      ],
      "text/plain": [
       "   customer_id  Total Profit       state\n",
       "1           76        177.72      Oregon\n",
       "2            4        158.64  California\n",
       "3           91         82.16   Wisconsin\n",
       "4           94         82.11   Louisiana\n",
       "5           89         75.30   Louisiana\n",
       "6           40         52.66  California\n",
       "7           93         41.57     Florida\n",
       "8           67         39.65     Alabama\n",
       "9           25         26.20     Alabama"
      ]
     },
     "metadata": {},
     "output_type": "display_data"
    }
   ],
   "source": [
    "# Grab the state of my customer, held in the customer dataframe\n",
    "# Only include from customer df:\n",
    "#     'customer_id' 'state' of purchase \n",
    "# Combine the previous adornment profit df with state column\n",
    "state_adornment_profit = pd.merge(adornment_profit, \n",
    "                                  customer_df.copy()[['customer_id','state']], \n",
    "                                  on='customer_id', how='left')\n",
    "\n",
    "# restart the index at one ; ascending order still False, by 'Total Profit'\n",
    "state_adornment_profit.index = np.arange(1, len(state_adornment_profit) +1 )\n",
    "\n",
    "display(state_adornment_profit)"
   ]
  },
  {
   "cell_type": "code",
   "execution_count": 19,
   "id": "2b454b2a",
   "metadata": {},
   "outputs": [
    {
     "data": {
      "text/plain": [
       "state\n",
       "California    211.30\n",
       "Oregon        177.72\n",
       "Louisiana     157.41\n",
       "Wisconsin      82.16\n",
       "Alabama        65.85\n",
       "Florida        41.57\n",
       "Name: Total Profit, dtype: float64"
      ]
     },
     "execution_count": 19,
     "metadata": {},
     "output_type": "execute_result"
    }
   ],
   "source": [
    "# Total profit by state for my adornment pieces\n",
    "adorn_total_profit_state = state_adornment_profit.copy()\n",
    "\n",
    "# State and total profit, but sum the profit per state\n",
    "adorn_total_profit_state = adorn_total_profit_state.groupby('state')['Total Profit'].sum()\n",
    "\n",
    "# sort values by most profitable state instead of alphabetically\n",
    "adorn_total_profit_state.sort_values(ascending=False) # outputs series"
   ]
  },
  {
   "cell_type": "code",
   "execution_count": 20,
   "id": "10f1e676",
   "metadata": {},
   "outputs": [
    {
     "name": "stdout",
     "output_type": "stream",
     "text": [
      "Total profit from selling shoe adornments ------->  $ 736.01\n"
     ]
    }
   ],
   "source": [
    "# first gather the totals into a list\n",
    "gather_profit_states_adorned = adorn_total_profit_state.to_numpy()\n",
    "\n",
    "\n",
    "# add all the numbers of the list together for a profit total\n",
    "total_adornment_profit = gather_profit_states_adorned.sum()\n",
    "\n",
    "\n",
    "# create labels\n",
    "states_list = adorn_total_profit_state.keys().tolist()\n",
    "\n",
    "print(\"Total profit from selling shoe adornments ------->  $\",total_adornment_profit)"
   ]
  },
  {
   "cell_type": "markdown",
   "metadata": {},
   "source": [
    "#### What does all that look like as a pie chart?"
   ]
  },
  {
   "cell_type": "code",
   "execution_count": 22,
   "id": "bbe7bb70",
   "metadata": {
    "scrolled": true
   },
   "outputs": [
    {
     "data": {
      "image/png": "[encoded data removed]",
      "text/plain": [
       "<Figure size 400x400 with 1 Axes>"
      ]
     },
     "metadata": {},
     "output_type": "display_data"
    }
   ],
   "source": [
    "st_adorn_pie = plt.pie(gather_profit_states_adorned, \n",
    "                       \n",
    "                       labels=states_list,               # labels created using tolist method\n",
    "                       \n",
    "                       startangle=90,                    # angle starting slice \n",
    "                       \n",
    "                       autopct='%.1f%%')                 # view percentage to tens place\n",
    "\n",
    "\n",
    "fig = plt.gcf()              # get current figure -> st_adorn_pie pie chart\n",
    "\n",
    "fig.set_size_inches(4,4)     # set size of pie chart\n",
    "\n",
    "plt.savefig(r'charts_graphs/state_adornment_profits_pie.png') # save to folder\n",
    "\n",
    "plt.tight_layout()           # minimize space / adjust padding of visual display"
   ]
  },
  {
   "cell_type": "markdown",
   "id": "955f9046",
   "metadata": {},
   "source": [
    "So we know that California, Oregon, and Louisiana are holding my highest-paying adornment investors. If I were looking to market my adornments to grow my clientele, I would start in these areas.\n",
    "\n",
    "-------------------------------------------------------\n",
    "\n",
    "\n",
    "This particular visual may entice more questions, such as: \n",
    "* Does my adornment market align with my highest-paying investors for shoe designs currently? \n",
    "* Would I need to separate focus between marketing campaigns in different locations to keep my products afloat? \n",
    "* How would I go about consolidating clientele to provide the ideal location for a storefront?"
   ]
  },
  {
   "cell_type": "markdown",
   "id": "b2c1850e",
   "metadata": {},
   "source": [
    "## Time to calculate total profit from each order"
   ]
  },
  {
   "cell_type": "code",
   "execution_count": 23,
   "id": "73c98128",
   "metadata": {},
   "outputs": [
    {
     "data": {
      "text/html": [
       "<div>\n",
       "<style scoped>\n",
       "    .dataframe tbody tr th:only-of-type {\n",
       "        vertical-align: middle;\n",
       "    }\n",
       "\n",
       "    .dataframe tbody tr th {\n",
       "        vertical-align: top;\n",
       "    }\n",
       "\n",
       "    .dataframe thead th {\n",
       "        text-align: right;\n",
       "    }\n",
       "</style>\n",
       "<table border=\"1\" class=\"dataframe\">\n",
       "  <thead>\n",
       "    <tr style=\"text-align: right;\">\n",
       "      <th></th>\n",
       "      <th>customer_id</th>\n",
       "      <th>package</th>\n",
       "      <th>design</th>\n",
       "      <th>sold</th>\n",
       "      <th>payment</th>\n",
       "      <th>bought</th>\n",
       "      <th>sku</th>\n",
       "      <th>brand</th>\n",
       "      <th>Total Profit</th>\n",
       "    </tr>\n",
       "  </thead>\n",
       "  <tbody>\n",
       "    <tr>\n",
       "      <th>1</th>\n",
       "      <td>1</td>\n",
       "      <td>P1</td>\n",
       "      <td>416</td>\n",
       "      <td>1396.85</td>\n",
       "      <td>mastercard</td>\n",
       "      <td>250.00</td>\n",
       "      <td>0</td>\n",
       "      <td>NK</td>\n",
       "      <td>1146.85</td>\n",
       "    </tr>\n",
       "    <tr>\n",
       "      <th>2</th>\n",
       "      <td>2</td>\n",
       "      <td>P2</td>\n",
       "      <td>293</td>\n",
       "      <td>1741.29</td>\n",
       "      <td>mastercard</td>\n",
       "      <td>250.00</td>\n",
       "      <td>0</td>\n",
       "      <td>NK</td>\n",
       "      <td>1491.29</td>\n",
       "    </tr>\n",
       "    <tr>\n",
       "      <th>3</th>\n",
       "      <td>3</td>\n",
       "      <td>P3</td>\n",
       "      <td>888</td>\n",
       "      <td>476.13</td>\n",
       "      <td>mastercard</td>\n",
       "      <td>250.00</td>\n",
       "      <td>0</td>\n",
       "      <td>NK</td>\n",
       "      <td>226.13</td>\n",
       "    </tr>\n",
       "    <tr>\n",
       "      <th>4</th>\n",
       "      <td>4</td>\n",
       "      <td>P4</td>\n",
       "      <td>873</td>\n",
       "      <td>208.87</td>\n",
       "      <td>mastercard</td>\n",
       "      <td>50.23</td>\n",
       "      <td>11003234</td>\n",
       "      <td></td>\n",
       "      <td>158.64</td>\n",
       "    </tr>\n",
       "    <tr>\n",
       "      <th>5</th>\n",
       "      <td>5</td>\n",
       "      <td>P5</td>\n",
       "      <td>627</td>\n",
       "      <td>900.88</td>\n",
       "      <td>mastercard</td>\n",
       "      <td>250.00</td>\n",
       "      <td>0</td>\n",
       "      <td>NK</td>\n",
       "      <td>650.88</td>\n",
       "    </tr>\n",
       "    <tr>\n",
       "      <th>6</th>\n",
       "      <td>6</td>\n",
       "      <td>P6</td>\n",
       "      <td>975</td>\n",
       "      <td>742.84</td>\n",
       "      <td>mastercard</td>\n",
       "      <td>250.00</td>\n",
       "      <td>0</td>\n",
       "      <td>NK</td>\n",
       "      <td>492.84</td>\n",
       "    </tr>\n",
       "    <tr>\n",
       "      <th>7</th>\n",
       "      <td>7</td>\n",
       "      <td>P7</td>\n",
       "      <td>271</td>\n",
       "      <td>1720.90</td>\n",
       "      <td>visa</td>\n",
       "      <td>250.00</td>\n",
       "      <td>0</td>\n",
       "      <td>NK</td>\n",
       "      <td>1470.90</td>\n",
       "    </tr>\n",
       "    <tr>\n",
       "      <th>8</th>\n",
       "      <td>8</td>\n",
       "      <td>P8</td>\n",
       "      <td>157</td>\n",
       "      <td>857.19</td>\n",
       "      <td>mastercard</td>\n",
       "      <td>250.00</td>\n",
       "      <td>0</td>\n",
       "      <td>NK</td>\n",
       "      <td>607.19</td>\n",
       "    </tr>\n",
       "    <tr>\n",
       "      <th>9</th>\n",
       "      <td>9</td>\n",
       "      <td>P9</td>\n",
       "      <td>244</td>\n",
       "      <td>1792.40</td>\n",
       "      <td>mastercard</td>\n",
       "      <td>250.00</td>\n",
       "      <td>0</td>\n",
       "      <td>NK</td>\n",
       "      <td>1542.40</td>\n",
       "    </tr>\n",
       "    <tr>\n",
       "      <th>10</th>\n",
       "      <td>10</td>\n",
       "      <td>P10</td>\n",
       "      <td>426</td>\n",
       "      <td>1660.81</td>\n",
       "      <td>visa</td>\n",
       "      <td>250.00</td>\n",
       "      <td>0</td>\n",
       "      <td>NK</td>\n",
       "      <td>1410.81</td>\n",
       "    </tr>\n",
       "  </tbody>\n",
       "</table>\n",
       "</div>"
      ],
      "text/plain": [
       "    customer_id package  design     sold     payment  bought       sku brand  \\\n",
       "1             1      P1     416  1396.85  mastercard  250.00         0    NK   \n",
       "2             2      P2     293  1741.29  mastercard  250.00         0    NK   \n",
       "3             3      P3     888   476.13  mastercard  250.00         0    NK   \n",
       "4             4      P4     873   208.87  mastercard   50.23  11003234         \n",
       "5             5      P5     627   900.88  mastercard  250.00         0    NK   \n",
       "6             6      P6     975   742.84  mastercard  250.00         0    NK   \n",
       "7             7      P7     271  1720.90        visa  250.00         0    NK   \n",
       "8             8      P8     157   857.19  mastercard  250.00         0    NK   \n",
       "9             9      P9     244  1792.40  mastercard  250.00         0    NK   \n",
       "10           10     P10     426  1660.81        visa  250.00         0    NK   \n",
       "\n",
       "    Total Profit  \n",
       "1        1146.85  \n",
       "2        1491.29  \n",
       "3         226.13  \n",
       "4         158.64  \n",
       "5         650.88  \n",
       "6         492.84  \n",
       "7        1470.90  \n",
       "8         607.19  \n",
       "9        1542.40  \n",
       "10       1410.81  "
      ]
     },
     "execution_count": 23,
     "metadata": {},
     "output_type": "execute_result"
    }
   ],
   "source": [
    "# establish working df\n",
    "profit = profit_df.copy()\n",
    "\n",
    "\n",
    "# fill in the missing SKU values\n",
    "profit = profit.fillna(0)             # I know 0 is an invalid SKU number, so it will work here for now.\n",
    "\n",
    "\n",
    "# cast sku from float to integer like it should be\n",
    "profit['sku'] = profit['sku'].astype(int)\n",
    "    \n",
    "    \n",
    "# create dataframe with profit column    \n",
    "profit['Total Profit'] = profit.apply( \n",
    "    lambda x: prof_num(x['sold'], \n",
    "                       x['bought']), axis=1) \n",
    "\n",
    "# to make it easier to count at a glance, I want to restart the index at 1\n",
    "profit.index = np.arange(1, len(profit) +1 )\n",
    "\n",
    "profit.head(10) # display only ten results"
   ]
  },
  {
   "cell_type": "markdown",
   "id": "40a838e4",
   "metadata": {},
   "source": [
    "### Quick Overview for card payment types"
   ]
  },
  {
   "cell_type": "code",
   "execution_count": 24,
   "id": "781fd0c1",
   "metadata": {},
   "outputs": [
    {
     "name": "stdout",
     "output_type": "stream",
     "text": [
      "My Business Accepted A Total of:\n",
      " \n",
      "90 Mastercards\n",
      "10 Visa Cards\n"
     ]
    }
   ],
   "source": [
    "# hold the payment column in a variable\n",
    "cards = profit['payment']\n",
    "\n",
    "\n",
    "# every time 'mastercard' appears in the column, \n",
    "# it is counted as a 1 and then added together\n",
    "# and produced as an integer type\n",
    "mastercards = int(cards.str.count('mastercard').sum())\n",
    "\n",
    "\n",
    "# again, 'visa' is counted as a 1\n",
    "# every time it appears in the payment column\n",
    "# and all those 1's are added together\n",
    "# that sum is cast into an integer and held in the visacards variable. \n",
    "visacards = int(cards.str.count('visa').sum())\n",
    "\n",
    "\n",
    "print(\"My Business Accepted A Total of:\", end='\\n \\n')\n",
    "print(mastercards, \"Mastercards\")\n",
    "print(visacards, \"Visa Cards\")"
   ]
  },
  {
   "cell_type": "code",
   "execution_count": 25,
   "id": "848c351b",
   "metadata": {},
   "outputs": [
    {
     "data": {
      "image/png": "[encoded data removed]",
      "text/plain": [
       "<Figure size 400x400 with 1 Axes>"
      ]
     },
     "metadata": {},
     "output_type": "display_data"
    }
   ],
   "source": [
    "# CANNOT insert magical numbers. \n",
    "# Must convert int values from block above into matplotlib friendly format\n",
    "\n",
    "# create list for np array\n",
    "card_list = []\n",
    "\n",
    "# insert numeric values for the array\n",
    "card_list = [mastercards, visacards]\n",
    "\n",
    "# create pie chart labels\n",
    "labels = ['Mastercard', 'Visa Card']\n",
    "\n",
    "\n",
    "# create array\n",
    "card_chart = np.array(card_list)\n",
    "\n",
    "# make pie chart smaller\n",
    "fig, ax = plt.subplots(figsize=(4, 4))  \n",
    "\n",
    "# show card chart array with labels and percentages\n",
    "plt.pie(card_chart, labels=labels, autopct='%.0f%%',\n",
    "        \n",
    "        # display wedge separation \n",
    "       wedgeprops={'linewidth': 3.0, 'edgecolor': 'w'},\n",
    "        \n",
    "        # text pieces\n",
    "       textprops={'size': 'medium', 'color': 'k'})\n",
    "\n",
    "# save to folder titled charts_graphs\n",
    "plt.savefig(r'charts_graphs/payment_pie.png')\n",
    "\n",
    "# remove extra text\n",
    "plt.tight_layout()"
   ]
  },
  {
   "cell_type": "code",
   "execution_count": 27,
   "id": "81bdc026",
   "metadata": {},
   "outputs": [
    {
     "data": {
      "text/html": [
       "<div>\n",
       "<style scoped>\n",
       "    .dataframe tbody tr th:only-of-type {\n",
       "        vertical-align: middle;\n",
       "    }\n",
       "\n",
       "    .dataframe tbody tr th {\n",
       "        vertical-align: top;\n",
       "    }\n",
       "\n",
       "    .dataframe thead th {\n",
       "        text-align: right;\n",
       "    }\n",
       "</style>\n",
       "<table border=\"1\" class=\"dataframe\">\n",
       "  <thead>\n",
       "    <tr style=\"text-align: right;\">\n",
       "      <th></th>\n",
       "      <th>customer_id</th>\n",
       "      <th>design</th>\n",
       "      <th>sku</th>\n",
       "      <th>Total Profit</th>\n",
       "    </tr>\n",
       "  </thead>\n",
       "  <tbody>\n",
       "    <tr>\n",
       "      <th>1</th>\n",
       "      <td>66</td>\n",
       "      <td>165</td>\n",
       "      <td>0</td>\n",
       "      <td>2557.00</td>\n",
       "    </tr>\n",
       "    <tr>\n",
       "      <th>2</th>\n",
       "      <td>36</td>\n",
       "      <td>515</td>\n",
       "      <td>0</td>\n",
       "      <td>2521.22</td>\n",
       "    </tr>\n",
       "    <tr>\n",
       "      <th>3</th>\n",
       "      <td>28</td>\n",
       "      <td>931</td>\n",
       "      <td>0</td>\n",
       "      <td>2338.41</td>\n",
       "    </tr>\n",
       "    <tr>\n",
       "      <th>4</th>\n",
       "      <td>47</td>\n",
       "      <td>589</td>\n",
       "      <td>0</td>\n",
       "      <td>2319.96</td>\n",
       "    </tr>\n",
       "    <tr>\n",
       "      <th>5</th>\n",
       "      <td>57</td>\n",
       "      <td>569</td>\n",
       "      <td>0</td>\n",
       "      <td>2304.48</td>\n",
       "    </tr>\n",
       "    <tr>\n",
       "      <th>...</th>\n",
       "      <td>...</td>\n",
       "      <td>...</td>\n",
       "      <td>...</td>\n",
       "      <td>...</td>\n",
       "    </tr>\n",
       "    <tr>\n",
       "      <th>96</th>\n",
       "      <td>40</td>\n",
       "      <td>749</td>\n",
       "      <td>10006319</td>\n",
       "      <td>52.66</td>\n",
       "    </tr>\n",
       "    <tr>\n",
       "      <th>97</th>\n",
       "      <td>93</td>\n",
       "      <td>838</td>\n",
       "      <td>10006319</td>\n",
       "      <td>41.57</td>\n",
       "    </tr>\n",
       "    <tr>\n",
       "      <th>98</th>\n",
       "      <td>67</td>\n",
       "      <td>740</td>\n",
       "      <td>10006319</td>\n",
       "      <td>39.65</td>\n",
       "    </tr>\n",
       "    <tr>\n",
       "      <th>99</th>\n",
       "      <td>25</td>\n",
       "      <td>454</td>\n",
       "      <td>10006319</td>\n",
       "      <td>26.20</td>\n",
       "    </tr>\n",
       "    <tr>\n",
       "      <th>100</th>\n",
       "      <td>80</td>\n",
       "      <td>799</td>\n",
       "      <td>0</td>\n",
       "      <td>14.05</td>\n",
       "    </tr>\n",
       "  </tbody>\n",
       "</table>\n",
       "<p>100 rows × 4 columns</p>\n",
       "</div>"
      ],
      "text/plain": [
       "     customer_id  design       sku  Total Profit\n",
       "1             66     165         0       2557.00\n",
       "2             36     515         0       2521.22\n",
       "3             28     931         0       2338.41\n",
       "4             47     589         0       2319.96\n",
       "5             57     569         0       2304.48\n",
       "..           ...     ...       ...           ...\n",
       "96            40     749  10006319         52.66\n",
       "97            93     838  10006319         41.57\n",
       "98            67     740  10006319         39.65\n",
       "99            25     454  10006319         26.20\n",
       "100           80     799         0         14.05\n",
       "\n",
       "[100 rows x 4 columns]"
      ]
     },
     "metadata": {},
     "output_type": "display_data"
    }
   ],
   "source": [
    "# create clean new variable to hold dataframe\n",
    "profit_statement = profit\n",
    "\n",
    "# display only necessary columns\n",
    "profit_statement = profit_statement.iloc[:, [0, 2, 6, 8]]\n",
    "\n",
    "# wrapped in round to 2 decimal places\n",
    "round(profit_statement['Total Profit'], 2)\n",
    "\n",
    "# sort output by Total Profit (most to least)\n",
    "profit_statement = profit_statement.sort_values(by=['Total Profit'], ascending=False)\n",
    "\n",
    "# restart the index at 1\n",
    "profit_statement.index = np.arange(1, len(profit_statement) +1 )\n",
    "\n",
    "display(profit_statement)"
   ]
  },
  {
   "cell_type": "markdown",
   "id": "79942753",
   "metadata": {},
   "source": [
    "# How much money did this business make over the course of three years?"
   ]
  },
  {
   "cell_type": "code",
   "execution_count": 28,
   "id": "efea2602",
   "metadata": {},
   "outputs": [
    {
     "name": "stdout",
     "output_type": "stream",
     "text": [
      "3YR Profit ---->   $ 125,748.45\n",
      "$ 41,916 averaged per year, approximately\n"
     ]
    }
   ],
   "source": [
    "# shorthand to sum column\n",
    "ttl_prof = round(profit_statement['Total Profit'].sum(), 2)\n",
    "\n",
    "# approximate number of years in operation\n",
    "biz_years = 3\n",
    "\n",
    "# total profit divided by number of years \n",
    "total_average = int((int(ttl_prof) / biz_years))\n",
    "\n",
    "# using str.format() \n",
    "# add comma between numbers \n",
    "allyears = ('$ {:,}'.format(ttl_prof))\n",
    "avy = ('$ {:,}'.format(total_average))\n",
    " \n",
    "# printing result \n",
    "print(\"3YR Profit ---->   \" + str(allyears)) \n",
    "print(avy, \"averaged per year, approximately\")"
   ]
  },
  {
   "cell_type": "markdown",
   "id": "9ca69a63",
   "metadata": {},
   "source": [
    "### Again, I need an idea of which states the income came from."
   ]
  },
  {
   "cell_type": "code",
   "execution_count": 30,
   "id": "6592bba8",
   "metadata": {
    "scrolled": true
   },
   "outputs": [
    {
     "data": {
      "text/html": [
       "<div>\n",
       "<style scoped>\n",
       "    .dataframe tbody tr th:only-of-type {\n",
       "        vertical-align: middle;\n",
       "    }\n",
       "\n",
       "    .dataframe tbody tr th {\n",
       "        vertical-align: top;\n",
       "    }\n",
       "\n",
       "    .dataframe thead th {\n",
       "        text-align: right;\n",
       "    }\n",
       "</style>\n",
       "<table border=\"1\" class=\"dataframe\">\n",
       "  <thead>\n",
       "    <tr style=\"text-align: right;\">\n",
       "      <th></th>\n",
       "      <th>customer_id</th>\n",
       "      <th>design</th>\n",
       "      <th>sku</th>\n",
       "      <th>Total Profit</th>\n",
       "      <th>state</th>\n",
       "    </tr>\n",
       "  </thead>\n",
       "  <tbody>\n",
       "    <tr>\n",
       "      <th>0</th>\n",
       "      <td>66</td>\n",
       "      <td>165</td>\n",
       "      <td>0</td>\n",
       "      <td>2557.00</td>\n",
       "      <td>California</td>\n",
       "    </tr>\n",
       "    <tr>\n",
       "      <th>1</th>\n",
       "      <td>36</td>\n",
       "      <td>515</td>\n",
       "      <td>0</td>\n",
       "      <td>2521.22</td>\n",
       "      <td>Georgia</td>\n",
       "    </tr>\n",
       "    <tr>\n",
       "      <th>2</th>\n",
       "      <td>28</td>\n",
       "      <td>931</td>\n",
       "      <td>0</td>\n",
       "      <td>2338.41</td>\n",
       "      <td>California</td>\n",
       "    </tr>\n",
       "    <tr>\n",
       "      <th>3</th>\n",
       "      <td>47</td>\n",
       "      <td>589</td>\n",
       "      <td>0</td>\n",
       "      <td>2319.96</td>\n",
       "      <td>California</td>\n",
       "    </tr>\n",
       "    <tr>\n",
       "      <th>4</th>\n",
       "      <td>57</td>\n",
       "      <td>569</td>\n",
       "      <td>0</td>\n",
       "      <td>2304.48</td>\n",
       "      <td>California</td>\n",
       "    </tr>\n",
       "    <tr>\n",
       "      <th>...</th>\n",
       "      <td>...</td>\n",
       "      <td>...</td>\n",
       "      <td>...</td>\n",
       "      <td>...</td>\n",
       "      <td>...</td>\n",
       "    </tr>\n",
       "    <tr>\n",
       "      <th>95</th>\n",
       "      <td>40</td>\n",
       "      <td>749</td>\n",
       "      <td>10006319</td>\n",
       "      <td>52.66</td>\n",
       "      <td>California</td>\n",
       "    </tr>\n",
       "    <tr>\n",
       "      <th>96</th>\n",
       "      <td>93</td>\n",
       "      <td>838</td>\n",
       "      <td>10006319</td>\n",
       "      <td>41.57</td>\n",
       "      <td>Florida</td>\n",
       "    </tr>\n",
       "    <tr>\n",
       "      <th>97</th>\n",
       "      <td>67</td>\n",
       "      <td>740</td>\n",
       "      <td>10006319</td>\n",
       "      <td>39.65</td>\n",
       "      <td>Alabama</td>\n",
       "    </tr>\n",
       "    <tr>\n",
       "      <th>98</th>\n",
       "      <td>25</td>\n",
       "      <td>454</td>\n",
       "      <td>10006319</td>\n",
       "      <td>26.20</td>\n",
       "      <td>Alabama</td>\n",
       "    </tr>\n",
       "    <tr>\n",
       "      <th>99</th>\n",
       "      <td>80</td>\n",
       "      <td>799</td>\n",
       "      <td>0</td>\n",
       "      <td>14.05</td>\n",
       "      <td>California</td>\n",
       "    </tr>\n",
       "  </tbody>\n",
       "</table>\n",
       "<p>100 rows × 5 columns</p>\n",
       "</div>"
      ],
      "text/plain": [
       "    customer_id  design       sku  Total Profit       state\n",
       "0            66     165         0       2557.00  California\n",
       "1            36     515         0       2521.22     Georgia\n",
       "2            28     931         0       2338.41  California\n",
       "3            47     589         0       2319.96  California\n",
       "4            57     569         0       2304.48  California\n",
       "..          ...     ...       ...           ...         ...\n",
       "95           40     749  10006319         52.66  California\n",
       "96           93     838  10006319         41.57     Florida\n",
       "97           67     740  10006319         39.65     Alabama\n",
       "98           25     454  10006319         26.20     Alabama\n",
       "99           80     799         0         14.05  California\n",
       "\n",
       "[100 rows x 5 columns]"
      ]
     },
     "metadata": {},
     "output_type": "display_data"
    }
   ],
   "source": [
    "# grab state and combine with dataframe\n",
    "total_profit_by_state = pd.merge(profit_statement, \n",
    "                                 customer_df.copy()[['customer_id','state']], \n",
    "                                 on='customer_id', how='left')\n",
    "# ascending false; sorted by most profit\n",
    "display(total_profit_by_state)"
   ]
  },
  {
   "cell_type": "markdown",
   "id": "95b7ea93",
   "metadata": {},
   "source": [
    "#### Condense the profit table into a document I can evaluate later."
   ]
  },
  {
   "cell_type": "code",
   "execution_count": 31,
   "id": "aeec4829",
   "metadata": {},
   "outputs": [],
   "source": [
    "# send to csv\n",
    "total_profit_by_state.to_csv(r'info/total_profit_by_state.csv', \n",
    "                             index= False) # do not include index in file"
   ]
  },
  {
   "cell_type": "markdown",
   "id": "6ed26c44",
   "metadata": {},
   "source": [
    "### I want a deeper look at profit by state"
   ]
  },
  {
   "cell_type": "code",
   "execution_count": 32,
   "id": "9fed634b",
   "metadata": {},
   "outputs": [
    {
     "data": {
      "text/html": [
       "<div>\n",
       "<style scoped>\n",
       "    .dataframe tbody tr th:only-of-type {\n",
       "        vertical-align: middle;\n",
       "    }\n",
       "\n",
       "    .dataframe tbody tr th {\n",
       "        vertical-align: top;\n",
       "    }\n",
       "\n",
       "    .dataframe thead th {\n",
       "        text-align: right;\n",
       "    }\n",
       "</style>\n",
       "<table border=\"1\" class=\"dataframe\">\n",
       "  <thead>\n",
       "    <tr style=\"text-align: right;\">\n",
       "      <th></th>\n",
       "      <th>Average Profit</th>\n",
       "    </tr>\n",
       "    <tr>\n",
       "      <th>state</th>\n",
       "      <th></th>\n",
       "    </tr>\n",
       "  </thead>\n",
       "  <tbody>\n",
       "    <tr>\n",
       "      <th>Georgia</th>\n",
       "      <td>2141.08</td>\n",
       "    </tr>\n",
       "    <tr>\n",
       "      <th>Minnesota</th>\n",
       "      <td>1691.15</td>\n",
       "    </tr>\n",
       "    <tr>\n",
       "      <th>Florida</th>\n",
       "      <td>1325.80</td>\n",
       "    </tr>\n",
       "    <tr>\n",
       "      <th>California</th>\n",
       "      <td>1282.68</td>\n",
       "    </tr>\n",
       "    <tr>\n",
       "      <th>Michigan</th>\n",
       "      <td>1101.26</td>\n",
       "    </tr>\n",
       "    <tr>\n",
       "      <th>Wisconsin</th>\n",
       "      <td>944.18</td>\n",
       "    </tr>\n",
       "    <tr>\n",
       "      <th>Alabama</th>\n",
       "      <td>755.79</td>\n",
       "    </tr>\n",
       "    <tr>\n",
       "      <th>Louisiana</th>\n",
       "      <td>684.67</td>\n",
       "    </tr>\n",
       "    <tr>\n",
       "      <th>Oregon</th>\n",
       "      <td>406.88</td>\n",
       "    </tr>\n",
       "  </tbody>\n",
       "</table>\n",
       "</div>"
      ],
      "text/plain": [
       "            Average Profit\n",
       "state                     \n",
       "Georgia            2141.08\n",
       "Minnesota          1691.15\n",
       "Florida            1325.80\n",
       "California         1282.68\n",
       "Michigan           1101.26\n",
       "Wisconsin           944.18\n",
       "Alabama             755.79\n",
       "Louisiana           684.67\n",
       "Oregon              406.88"
      ]
     },
     "metadata": {},
     "output_type": "display_data"
    }
   ],
   "source": [
    "# which state was the item ordered from\n",
    "state_pivot = total_profit_by_state.copy()\n",
    "\n",
    "\n",
    "\n",
    "# create a pivot table grouping 'Total Profit' by states\n",
    "# give me an average of the sales for that state\n",
    "# cast the result into a number rounded up to two decimal points\n",
    "state_pivot = round(state_pivot.groupby('state')[['Total Profit']].mean(), 2)\n",
    "\n",
    "\n",
    "\n",
    "# sort by profit instead of alphabetical order of states\n",
    "state_pivot = state_pivot.sort_values('Total Profit', ascending=False)\n",
    "\n",
    "# rename 'Total Profit' column \n",
    "state_pivot.columns = ['Average Profit']\n",
    "\n",
    "# list of states in order of most profitable to least\n",
    "display(state_pivot)"
   ]
  },
  {
   "cell_type": "code",
   "execution_count": 33,
   "id": "854149ec",
   "metadata": {},
   "outputs": [
    {
     "data": {
      "image/png": "[encoded data removed]",
      "text/plain": [
       "<Figure size 640x480 with 1 Axes>"
      ]
     },
     "metadata": {},
     "output_type": "display_data"
    }
   ],
   "source": [
    "# establish bar graph for overall idea of profitability\n",
    "state_pivot_graph = state_pivot.plot(kind='bar',\n",
    "                                     color='b',    # set blue color\n",
    "                                     xlabel='')    # clear state label from x-axis\n",
    "# clean output \n",
    "plt.tight_layout()\n",
    "\n",
    "# This bar graph displays each state I did business in\n",
    "# For each state, approximately how much profit was made\n",
    "#   combined from:\n",
    "#       custom designs \n",
    "#    and \n",
    "#       shoe adornments"
   ]
  },
  {
   "cell_type": "markdown",
   "id": "bc189d10",
   "metadata": {},
   "source": [
    "Well, that is NOT California, Oregon, or Louisiana in my top three when we add shoe designs back in the mix. It appears that I may have two separate markets in varying areas. California is still pulling strong, but it may take some more marketing techniques to raise brand awareness and grow the investor base."
   ]
  },
  {
   "cell_type": "code",
   "execution_count": null,
   "metadata": {},
   "outputs": [],
   "source": [
    "conn.close() #close database"
   ]
  },
  {
   "cell_type": "markdown",
   "id": "5453a618",
   "metadata": {},
   "source": [
    "# Tableau Dashboard\n",
    "\n",
    "To dig in deeper to the data so I can answer ambitious questions regarding storefront placements, I have created a sample Tableau Dashboard from the data available. It will give an idea of the timeline of sales as well.\n",
    "\n",
    "[Click Here to be directed to my public workbook](https://public.tableau.com/app/profile/jodie.mullins/viz/DemoDashboardPreview/PinPointAreas)"
   ]
  }
 ],
 "metadata": {
  "kernelspec": {
   "display_name": "Python 3 (ipykernel)",
   "language": "python",
   "name": "python3"
  },
  "language_info": {
   "codemirror_mode": {
    "name": "ipython",
    "version": 3
   },
   "file_extension": ".py",
   "mimetype": "text/x-python",
   "name": "python",
   "nbconvert_exporter": "python",
   "pygments_lexer": "ipython3",
   "version": "3.11.3"
  }
 },
 "nbformat": 4,
 "nbformat_minor": 5
}
